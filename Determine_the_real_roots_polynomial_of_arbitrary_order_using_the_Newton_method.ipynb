{
  "nbformat": 4,
  "nbformat_minor": 0,
  "metadata": {
    "colab": {
      "name": "Determine the real roots polynomial of arbitrary order using the Newton method.ipynb",
      "provenance": [],
      "authorship_tag": "ABX9TyOZLPU4khmBEpD+oD43HWhH",
      "include_colab_link": true
    },
    "kernelspec": {
      "name": "python3",
      "display_name": "Python 3"
    },
    "language_info": {
      "name": "python"
    }
  },
  "cells": [
    {
      "cell_type": "markdown",
      "metadata": {
        "id": "view-in-github",
        "colab_type": "text"
      },
      "source": [
        "<a href=\"https://colab.research.google.com/github/SaraKarim23/Determining-the-real-roots-polynomial-of-arbitrary-order-using-the-Newton-method/blob/main/Determine_the_real_roots_polynomial_of_arbitrary_order_using_the_Newton_method.ipynb\" target=\"_parent\"><img src=\"https://colab.research.google.com/assets/colab-badge.svg\" alt=\"Open In Colab\"/></a>"
      ]
    },
    {
      "cell_type": "code",
      "metadata": {
        "id": "iNBOf0f5Bsex"
      },
      "source": [
        "import numpy as np\n",
        "from scipy.misc import derivative\n",
        "import matplotlib.pyplot as plt\n",
        "from ipywidgets import widgets"
      ],
      "execution_count": 9,
      "outputs": []
    },
    {
      "cell_type": "code",
      "metadata": {
        "id": "fr009qU4CQ-q"
      },
      "source": [
        "x = np.linspace(0.2, 2.2, 500)\n",
        "\n",
        "def f(x):\n",
        "    return np.log(x)\n",
        "\n",
        "def f_line(f, x, x_n):\n",
        "    slope = derivative(f, x_n, dx=0.1)\n",
        "    x_nn = x_n - f(x_n) / slope \n",
        "    return slope * (x - x_n) + f(x_n), x_nn\n",
        "\n",
        "def update_plot(order):\n",
        "    x_n = 2\n",
        "    ax.clear()\n",
        "    ax.plot(x, f(x), label=r'$\\ln(x)$')\n",
        "    ax.axhline(0, color='gray', lw=0.5)\n",
        "\n",
        "    for i in range(0, order):\n",
        "\n",
        "        if i >= 1:\n",
        "            ax.plot(x, f_l, '--', lw=1)\n",
        "        \n",
        "        ax.plot(x_n, f(x_n), 'kd', label=r'$f(x_{}={:.2f})={:.3f}$'.format(i + 1, x_n, f(x_n)))\n",
        "        ax.vlines(x_n, 0, f(x_n), color='black', linestyle=':', lw=1)\n",
        "        f_l, x_n = f_line(f, x, x_n)\n",
        "\n",
        "        \n",
        "    plt.setp(ax, xticks=[0, 1, 2], xticklabels=['0', '1', '2'],\n",
        "             yticks=[-1, 0, 1], yticklabels=['-1', '0', '-1'])\n",
        "    ax.set_ylim(-1, 1)\n",
        "    ax.set_xlim(0, 2.2)\n",
        "    ax.legend(loc=4)\n",
        "    plt.show()\n"
      ],
      "execution_count": 10,
      "outputs": []
    },
    {
      "cell_type": "code",
      "metadata": {
        "colab": {
          "base_uri": "https://localhost:8080/"
        },
        "id": "4e6boAwYKt2j",
        "outputId": "52521bdb-abc9-45f1-d3e9-1450148501d6"
      },
      "source": [
        "x_n = 2\n",
        "x = np.linspace(0.2, 2.2, 500)\n",
        "\n",
        "def f(x):\n",
        "    return np.log(x)\n",
        "\n",
        "def x_next(f, x, x_n):\n",
        "    slope = derivative(f, x_n, dx=0.1)\n",
        "    return x_n - f(x_n) / slope\n",
        "\n",
        "for n in range(6):\n",
        "    print('x_{} = {:.6f}'.format(n + 1, x_n))\n",
        "    x_n = x_next(f, x, x_n)"
      ],
      "execution_count": 11,
      "outputs": [
        {
          "output_type": "stream",
          "text": [
            "x_1 = 2.000000\n",
            "x_2 = 0.614862\n",
            "x_3 = 0.911249\n",
            "x_4 = 0.995599\n",
            "x_5 = 0.999975\n",
            "x_6 = 1.000000\n"
          ],
          "name": "stdout"
        }
      ]
    },
    {
      "cell_type": "code",
      "metadata": {
        "id": "UrTKS82OKgPZ"
      },
      "source": [
        "fig, ax = plt.subplots(1, figsize=(13, 6.5))\n",
        "order = widgets.IntSlider(min=1, max=6, value=1, description='order')\n",
        "widgets.interactive(update_plot, order=order)"
      ],
      "execution_count": null,
      "outputs": []
    }
  ]
}